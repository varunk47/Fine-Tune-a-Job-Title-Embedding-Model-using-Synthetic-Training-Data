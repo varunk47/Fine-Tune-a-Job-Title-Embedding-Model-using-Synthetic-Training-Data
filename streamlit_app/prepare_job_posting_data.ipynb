{
 "cells": [
  {
   "cell_type": "code",
   "execution_count": 1,
   "metadata": {},
   "outputs": [],
   "source": [
    "import os\n",
    "import sys"
   ]
  },
  {
   "cell_type": "code",
   "execution_count": 2,
   "metadata": {},
   "outputs": [],
   "source": [
    "import pandas as pd\n",
    "import numpy as np"
   ]
  },
  {
   "cell_type": "code",
   "execution_count": 3,
   "metadata": {},
   "outputs": [],
   "source": [
    "build_project_path = os.environ['BUILD_PROJECT_PATH']\n",
    "streamlit_data_path = os.path.join(build_project_path, 'streamlit_app', 'data')"
   ]
  },
  {
   "cell_type": "code",
   "execution_count": 4,
   "metadata": {},
   "outputs": [],
   "source": [
    "job_postings_df = pd.read_csv(os.path.join(streamlit_data_path, 'job_postings.csv'))"
   ]
  },
  {
   "cell_type": "code",
   "execution_count": 5,
   "metadata": {},
   "outputs": [],
   "source": [
    "import ast\n",
    "\n",
    "def extract_first_url(url_str):\n",
    "    try:\n",
    "        url_list = ast.literal_eval(url_str)\n",
    "        return url_list[0] if url_list else None\n",
    "    except:\n",
    "        return None\n",
    "\n",
    "# Assuming your DataFrame is named df\n",
    "job_postings_df['URL'] = job_postings_df['URL'].apply(extract_first_url)"
   ]
  },
  {
   "cell_type": "code",
   "execution_count": 6,
   "metadata": {},
   "outputs": [],
   "source": [
    "job_postings_df['POSTED'] = pd.to_datetime(job_postings_df['POSTED'], errors='coerce')"
   ]
  },
  {
   "cell_type": "code",
   "execution_count": 7,
   "metadata": {},
   "outputs": [],
   "source": [
    "job_postings_df.rename({\n",
    "    'COMPANY_NAME': 'company',\n",
    "    'TITLE_RAW': 'job_posting_title',\n",
    "    'ONET_2019': 'onet_code',\n",
    "    'ONET_2019_NAME': 'onet_name',\n",
    "    'POSTED': 'date_posted',\n",
    "    'URL': 'url'\n",
    "}, inplace=True, axis=1)"
   ]
  },
  {
   "cell_type": "code",
   "execution_count": null,
   "metadata": {},
   "outputs": [],
   "source": [
    "job_postings_df"
   ]
  },
  {
   "cell_type": "code",
   "execution_count": null,
   "metadata": {},
   "outputs": [],
   "source": [
    "job_postings_df = job_postings_df.sample(frac=(1/6)).reset_index(drop=True)\n",
    "job_postings_df"
   ]
  },
  {
   "cell_type": "code",
   "execution_count": 11,
   "metadata": {},
   "outputs": [],
   "source": [
    "job_postings_df.to_parquet(os.path.join(streamlit_data_path, 'job_postings.parquet'), engine=\"pyarrow\", compression=\"snappy\")"
   ]
  },
  {
   "cell_type": "code",
   "execution_count": null,
   "metadata": {},
   "outputs": [],
   "source": []
  }
 ],
 "metadata": {
  "kernelspec": {
   "display_name": ".build-project",
   "language": "python",
   "name": "python3"
  },
  "language_info": {
   "codemirror_mode": {
    "name": "ipython",
    "version": 3
   },
   "file_extension": ".py",
   "mimetype": "text/x-python",
   "name": "python",
   "nbconvert_exporter": "python",
   "pygments_lexer": "ipython3",
   "version": "3.12.8"
  }
 },
 "nbformat": 4,
 "nbformat_minor": 2
}
